{
 "cells": [
  {
   "cell_type": "code",
   "execution_count": 46,
   "metadata": {},
   "outputs": [
    {
     "name": "stdout",
     "output_type": "stream",
     "text": [
      "Collecting diskcache\n",
      "  Downloading diskcache-5.6.3-py3-none-any.whl.metadata (20 kB)\n",
      "Downloading diskcache-5.6.3-py3-none-any.whl (45 kB)\n",
      "Installing collected packages: diskcache\n",
      "Successfully installed diskcache-5.6.3\n"
     ]
    }
   ],
   "source": [
    "!pip install diskcache"
   ]
  },
  {
   "cell_type": "code",
   "execution_count": 47,
   "metadata": {},
   "outputs": [
    {
     "name": "stdout",
     "output_type": "stream",
     "text": [
      "Computando 2...\n",
      "4\n",
      "Retornando cache para 2\n",
      "4\n",
      "Retornando cache para 2\n",
      "4\n"
     ]
    }
   ],
   "source": [
    "import diskcache as dc\n",
    "import time\n",
    "\n",
    "# Cria o cache com um diretório específico\n",
    "cache = dc.Cache(\"cache_dir\")\n",
    "\n",
    "# Definir TTL (tempo de expiração em segundos)\n",
    "cache.expire_time = 5  # Expira após 5 segundos\n",
    "\n",
    "def expensive_function(x):\n",
    "    if x in cache:\n",
    "        print(f\"Retornando cache para {x}\")\n",
    "        return cache[x]\n",
    "    print(f\"Computando {x}...\")\n",
    "    result = x * 2\n",
    "    cache[x] = result\n",
    "    return result\n",
    "\n",
    "# Exemplo de uso\n",
    "print(expensive_function(2))  # Computa e armazena no cache\n",
    "time.sleep(3)  # Espera 3 segundos\n",
    "print(expensive_function(2))  # Retorna o cache\n",
    "time.sleep(3)  # Espera mais 3 segundos (total de 6 segundos)\n",
    "print(expensive_function(2))  # Computa novamente, pois o cache expirou\n"
   ]
  },
  {
   "cell_type": "code",
   "execution_count": null,
   "metadata": {},
   "outputs": [],
   "source": [
    "import diskcache as dc\n",
    "import time\n",
    "\n",
    "# Cria o cache com um diretório específico\n",
    "cache = dc.Cache(\"cache_dir\")\n",
    "\n",
    "# Definir TTL (tempo de expiração em segundos)\n",
    "cache.expire_time = 5  # Expira após 5 segundos\n",
    "\n",
    "def expensive_function(x):\n",
    "    if x in cache:\n",
    "        print(f\"Retornando cache para {x}\")\n",
    "        return cache[x]\n",
    "    print(f\"Computando {x}...\")\n",
    "    result = x * 2\n",
    "    cache[x] = result\n",
    "    return result"
   ]
  },
  {
   "cell_type": "code",
   "execution_count": 49,
   "metadata": {},
   "outputs": [
    {
     "name": "stdout",
     "output_type": "stream",
     "text": [
      "Cache contém: 10\n"
     ]
    }
   ],
   "source": [
    "import diskcache as dc\n",
    "import time\n",
    "\n",
    "# Cria o cache com um diretório específico\n",
    "cache = dc.Cache(\"cache_dir\")\n",
    "\n",
    "# Armazenando um valor no cache\n",
    "cache['a'] = 10\n",
    "\n",
    "# Verificando se o valor está no cache\n",
    "if 'a' in cache:\n",
    "    print(f\"Cache contém: {cache['a']}\")\n",
    "\n",
    "# Espera 6 segundos para simular a expiração do cache\n",
    "time.sleep(11)\n",
    "\n",
    "# Verificando novamente se o valor ainda está no cache\n",
    "if 'a' not in cache:\n",
    "    print(\"O valor expirou e não está mais no cache.\")\n"
   ]
  },
  {
   "cell_type": "code",
   "execution_count": 50,
   "metadata": {},
   "outputs": [],
   "source": [
    "# Verificando novamente se o valor ainda está no cache\n",
    "if 'a' not in cache:\n",
    "    print(\"O valor expirou e não está mais no cache.\")"
   ]
  },
  {
   "cell_type": "code",
   "execution_count": null,
   "metadata": {},
   "outputs": [
    {
     "name": "stdout",
     "output_type": "stream",
     "text": [
      "wrapper_primeiro\n",
      "Olá!\n",
      "wrapper_segundo_2\n"
     ]
    }
   ],
   "source": [
    "def meu_decorator(funcao):\n",
    "    def wrapper():\n",
    "        print(\"wrapper_primeiro\")\n",
    "        funcao()\n",
    "        print(\"wrapper_segundo_2\")\n",
    "    return wrapper\n",
    "\n",
    "@meu_decorator\n",
    "# @meu_decotaror(funcao)\n",
    "# funcao = diga_ola()\n",
    "def diga_ola():\n",
    "    print(\"Olá!\")\n",
    "\n",
    "diga_ola()"
   ]
  },
  {
   "cell_type": "code",
   "execution_count": null,
   "metadata": {},
   "outputs": [
    {
     "name": "stdout",
     "output_type": "stream",
     "text": [
      "Maria\n",
      "Maria\n"
     ]
    }
   ],
   "source": [
    "# O método __init__ é chamado de construtor porque ele constrói (ou inicializa) um novo objeto da classe.\n",
    "\n",
    "class Pessoa:\n",
    "    def __init__(self, nome):\n",
    "        self.nome = nome  # Armazena o nome no objeto\n",
    "        print(self.nome)\n",
    "\n",
    "p = Pessoa(\"Maria\")  # Aqui __init__ é chamado automaticamente\n",
    "print(p.nome)  # Saída: Maria\n"
   ]
  },
  {
   "cell_type": "code",
   "execution_count": 43,
   "metadata": {},
   "outputs": [
    {
     "name": "stdout",
     "output_type": "stream",
     "text": [
      "30\n"
     ]
    }
   ],
   "source": [
    "class Pessoa:\n",
    "    def __init__(self, nome):\n",
    "        self.nome = nome\n",
    "\n",
    "# Criando uma instância da classe\n",
    "p = Pessoa(\"João\")\n",
    "\n",
    "# Definindo dinamicamente um novo atributo 'idade'\n",
    "setattr(p, 'idade', 30)\n",
    "\n",
    "# Acessando o novo atributo\n",
    "print(p.idade)  # Saída: 30\n"
   ]
  },
  {
   "cell_type": "code",
   "execution_count": 44,
   "metadata": {},
   "outputs": [
    {
     "name": "stdout",
     "output_type": "stream",
     "text": [
      "João\n",
      "Atributo não encontrado\n"
     ]
    }
   ],
   "source": [
    "class Pessoa:\n",
    "    def __init__(self, nome):\n",
    "        self.nome = nome\n",
    "\n",
    "# Criando uma instância da classe\n",
    "p = Pessoa(\"João\")\n",
    "\n",
    "# Usando getattr para acessar o atributo 'nome'\n",
    "print(getattr(p, 'nome'))  # Saída: João\n",
    "\n",
    "# Usando getattr para acessar um atributo inexistente com valor padrão\n",
    "print(getattr(p, 'idade', 'Atributo não encontrado'))  # Saída: Atributo não encontrado\n"
   ]
  },
  {
   "cell_type": "code",
   "execution_count": null,
   "metadata": {},
   "outputs": [
    {
     "name": "stdout",
     "output_type": "stream",
     "text": [
      "Carro: Ferrari\n"
     ]
    }
   ],
   "source": [
    "Sim! O método __str__ é utilizado para definir como o objeto deve aparecer para o usuário quando usamos print() ou str().\n",
    "\n",
    "Recapitulando o uso do __str__:\n",
    "Definir uma representação amigável para o objeto.\n",
    "\n",
    "Usado automaticamente pelo print() e str().\n",
    "\n",
    "Sem __str__, o objeto aparece com um endereço de memória feio.\n",
    "\n",
    "\n",
    "class Carro:\n",
    "    def __init__(self, modelo):\n",
    "        self.modelo = modelo\n",
    "\n",
    "    def __str__(self):\n",
    "        return f\"Carro: {self.modelo}\"\n",
    "\n",
    "c = Carro(\"Ferrari\")\n",
    "print(c)  # Saída: Carro: Ferrari\n"
   ]
  },
  {
   "cell_type": "code",
   "execution_count": 22,
   "metadata": {},
   "outputs": [
    {
     "name": "stdout",
     "output_type": "stream",
     "text": [
      "Pessoa('João')\n"
     ]
    }
   ],
   "source": [
    "# Função do __repr__\n",
    "# O método __repr__ tem como função fornecer uma representação técnica e precisa do objeto, útil para desenvolvedores e depuração (debug).\n",
    "# 📌 O que o __repr__ faz?\n",
    "# Retorna uma string que representa o objeto de forma técnica.\n",
    "# Usado quando chamamos repr(objeto) ou digitamos o objeto no terminal.\n",
    "# Deve, idealmente, permitir recriar o objeto com eval(repr(objeto)).\n",
    "\n",
    "class Pessoa:\n",
    "    def __init__(self, nome):\n",
    "        self.nome = nome\n",
    "\n",
    "    def __repr__(self):\n",
    "        return f\"Pessoa('{self.nome}')\"\n",
    "\n",
    "p = Pessoa(\"João\")\n",
    "print(repr(p))  # Saída: Pessoa('João')\n"
   ]
  },
  {
   "cell_type": "code",
   "execution_count": 23,
   "metadata": {},
   "outputs": [
    {
     "name": "stdout",
     "output_type": "stream",
     "text": [
      "Maria\n"
     ]
    }
   ],
   "source": [
    "p = Pessoa(\"Maria\")\n",
    "novo_p = eval(repr(p))\n",
    "print(novo_p.nome)  # Saída: Maria\n"
   ]
  },
  {
   "cell_type": "markdown",
   "metadata": {},
   "source": [
    "# Dunder Methods (_init, __str, _repr , etc.) :"
   ]
  },
  {
   "cell_type": "code",
   "execution_count": 4,
   "metadata": {},
   "outputs": [
    {
     "name": "stdout",
     "output_type": "stream",
     "text": [
      "Pessoa: João\n",
      "Pessoa('João')\n"
     ]
    }
   ],
   "source": [
    "class Pessoa:\n",
    "    def __init__(self, nome):\n",
    "        self.nome = nome\n",
    "\n",
    "    def __str__(self):\n",
    "        return f\"Pessoa: {self.nome}\"\n",
    "\n",
    "    def __repr__(self):\n",
    "        return f\"Pessoa('{self.nome}')\"\n",
    "\n",
    "p = Pessoa(\"João\")\n",
    "print(p)       # Saída: Pessoa: João\n",
    "print(repr(p)) # Saída: Pessoa('João')"
   ]
  },
  {
   "cell_type": "code",
   "execution_count": null,
   "metadata": {},
   "outputs": [],
   "source": []
  },
  {
   "cell_type": "code",
   "execution_count": 13,
   "metadata": {},
   "outputs": [
    {
     "name": "stdout",
     "output_type": "stream",
     "text": [
      "Animal Rex criado.\n",
      "Cachorro Rex da raça Pastor Alemão criado.\n"
     ]
    }
   ],
   "source": [
    "class Animal:\n",
    "    def __init__(self, nome):\n",
    "        self.nome = nome\n",
    "        print(f\"Animal {self.nome} criado.\")\n",
    "\n",
    "class Cachorro(Animal):\n",
    "    def __init__(self, nome, raca):\n",
    "        super().__init__(nome)  # Chama o __init__ da classe pai\n",
    "        self.raca = raca\n",
    "        print(f\"Cachorro {self.nome} da raça {self.raca} criado.\")\n",
    "\n",
    "# Testando\n",
    "dog = Cachorro(\"Rex\", \"Pastor Alemão\")"
   ]
  },
  {
   "cell_type": "code",
   "execution_count": 10,
   "metadata": {},
   "outputs": [],
   "source": [
    "class Pai:\n",
    "    def saudacao(self):\n",
    "        print(\"Olá do Pai_______\")\n",
    "\n",
    "class Filho(Pai):\n",
    "    def saudacao(self):\n",
    "        super().saudacao()\n",
    "        print(\"Olá do Filho\")"
   ]
  },
  {
   "cell_type": "code",
   "execution_count": 11,
   "metadata": {},
   "outputs": [
    {
     "data": {
      "text/plain": [
       "<__main__.Filho at 0x22c199be1e0>"
      ]
     },
     "execution_count": 11,
     "metadata": {},
     "output_type": "execute_result"
    }
   ],
   "source": [
    "Filho()"
   ]
  },
  {
   "cell_type": "code",
   "execution_count": 12,
   "metadata": {},
   "outputs": [
    {
     "name": "stdout",
     "output_type": "stream",
     "text": [
      "Olá do Pai_______\n",
      "Olá do Filho\n"
     ]
    }
   ],
   "source": [
    "f = Filho()\n",
    "f.saudacao()"
   ]
  },
  {
   "cell_type": "markdown",
   "metadata": {},
   "source": [
    "# 📌__init__.py"
   ]
  },
  {
   "cell_type": "raw",
   "metadata": {
    "vscode": {
     "languageId": "raw"
    }
   },
   "source": [
    "O arquivo __init__.py tem uma função crucial no Python: ele marca um diretório como um pacote Python. Ou seja, ele permite que o Python trate a pasta como um módulo que pode ser importado.\n",
    "\n",
    "Funções principais do __init__.py:\n",
    "Tornar o diretório um pacote:\n",
    "\n",
    "Qualquer diretório que contenha um arquivo __init__.py é considerado um pacote Python, o que permite que você o importe como um módulo, por exemplo:"
   ]
  },
  {
   "cell_type": "markdown",
   "metadata": {},
   "source": [
    "# 📌 len() – Retorna o tamanho (número de elementos) de um objeto"
   ]
  },
  {
   "cell_type": "code",
   "execution_count": 24,
   "metadata": {},
   "outputs": [
    {
     "name": "stdout",
     "output_type": "stream",
     "text": [
      "4\n"
     ]
    }
   ],
   "source": [
    "lista = [10, 20, 30, 40]\n",
    "print(len(lista))  # Saída: 4\n"
   ]
  },
  {
   "cell_type": "code",
   "execution_count": 25,
   "metadata": {},
   "outputs": [
    {
     "name": "stdout",
     "output_type": "stream",
     "text": [
      "<class 'float'>\n"
     ]
    }
   ],
   "source": [
    "x = 3.14\n",
    "print(type(x))  # Saída: <class 'float'>\n"
   ]
  },
  {
   "cell_type": "code",
   "execution_count": 26,
   "metadata": {},
   "outputs": [
    {
     "name": "stdout",
     "output_type": "stream",
     "text": [
      "0\n",
      "1\n",
      "2\n",
      "3\n",
      "4\n"
     ]
    }
   ],
   "source": [
    "for i in range(5):  # Gera 0, 1, 2, 3, 4\n",
    "    print(i)"
   ]
  },
  {
   "cell_type": "code",
   "execution_count": 27,
   "metadata": {},
   "outputs": [
    {
     "name": "stdout",
     "output_type": "stream",
     "text": [
      "[1, 4, 9, 16]\n"
     ]
    }
   ],
   "source": [
    "numeros = [1, 2, 3, 4]\n",
    "quadrados = list(map(lambda x: x**2, numeros))\n",
    "print(quadrados)  # Saída: [1, 4, 9, 16]"
   ]
  },
  {
   "cell_type": "code",
   "execution_count": 28,
   "metadata": {},
   "outputs": [
    {
     "name": "stdout",
     "output_type": "stream",
     "text": [
      "[2, 4, 6]\n"
     ]
    }
   ],
   "source": [
    "numeros = [1, 2, 3, 4, 5, 6]\n",
    "pares = list(filter(lambda x: x % 2 == 0, numeros))\n",
    "print(pares)  # Saída: [2, 4, 6]"
   ]
  },
  {
   "cell_type": "code",
   "execution_count": 29,
   "metadata": {},
   "outputs": [
    {
     "name": "stdout",
     "output_type": "stream",
     "text": [
      "[2, 4, 6]\n"
     ]
    }
   ],
   "source": [
    "numeros = [1, 2, 3, 4, 5, 6]\n",
    "pares = list(filter(lambda x: x % 2 == 0, numeros))\n",
    "print(pares)  # Saída: [2, 4, 6]"
   ]
  },
  {
   "cell_type": "code",
   "execution_count": null,
   "metadata": {},
   "outputs": [],
   "source": []
  },
  {
   "cell_type": "code",
   "execution_count": 40,
   "metadata": {},
   "outputs": [
    {
     "name": "stdout",
     "output_type": "stream",
     "text": [
      "[(1, 'a'), (2, 'b'), (3, 'c')]\n"
     ]
    }
   ],
   "source": [
    "# Lista de tuplas\n",
    "tuplas = [(1, 'a'), (3, 'c'), (2, 'b')]\n",
    "\n",
    "# Ordenando pela segunda posição da tupla (índice 1)\n",
    "ordenado = sorted(tuplas, key=lambda x: x[0])\n",
    "print(ordenado)  # Saída: [(1, 'a'), (2, 'b'), (3, 'c')]\n"
   ]
  },
  {
   "cell_type": "code",
   "execution_count": 41,
   "metadata": {},
   "outputs": [
    {
     "name": "stdout",
     "output_type": "stream",
     "text": [
      "[1, 2, 3, 4]\n",
      "[1, 2, 3, 4]\n",
      "6\n",
      "6\n"
     ]
    }
   ],
   "source": [
    "# Com listas (mutáveis)\n",
    "i = [1, 2, 3]\n",
    "i = i + [4]  # Cria uma nova lista\n",
    "print(i)  # Saída: [1, 2, 3, 4]\n",
    "\n",
    "i = [1, 2, 3]\n",
    "i += [4]  # Modifica a lista existente\n",
    "print(i)  # Saída: [1, 2, 3, 4]\n",
    "\n",
    "# Com inteiros (imutáveis)\n",
    "i = 5\n",
    "i = i + 1  # Cria um novo valor\n",
    "print(i)  # Saída: 6\n",
    "\n",
    "i = 5\n",
    "i += 1  # Cria um novo valor (como no exemplo anterior)\n",
    "print(i)  # Saída: 6\n"
   ]
  },
  {
   "cell_type": "code",
   "execution_count": null,
   "metadata": {},
   "outputs": [],
   "source": [
    "i = 1\n",
    "while True:\n",
    "    i += 5\n",
    "    print(i)\n"
   ]
  },
  {
   "cell_type": "markdown",
   "metadata": {},
   "source": [
    "# 📌 Map() and Lambda()"
   ]
  },
  {
   "cell_type": "code",
   "execution_count": 37,
   "metadata": {},
   "outputs": [
    {
     "name": "stdout",
     "output_type": "stream",
     "text": [
      "['PYTHON', 'MAP', 'LAMBDA']\n"
     ]
    }
   ],
   "source": [
    "# Lista de palavras\n",
    "palavras = ['python', 'map', 'lambda']\n",
    "\n",
    "# Usando map com lambda para transformar todas as palavras em maiúsculas\n",
    "maiusculas = list(map(lambda x: x.upper(), palavras))\n",
    "print(maiusculas)  # Saída: ['PYTHON', 'MAP', 'LAMBDA']\n"
   ]
  },
  {
   "cell_type": "code",
   "execution_count": 36,
   "metadata": {},
   "outputs": [
    {
     "name": "stdout",
     "output_type": "stream",
     "text": [
      "[1, 4, 9, 16]\n"
     ]
    }
   ],
   "source": [
    "# Lista de números\n",
    "numeros = [1, 2, 3, 4]\n",
    "\n",
    "# Usando lambda no map para elevar ao quadrado cada número\n",
    "quadrados = list(map(lambda x: x**2, numeros))\n",
    "print(quadrados)  # Saída: [1, 4, 9, 16]"
   ]
  },
  {
   "cell_type": "markdown",
   "metadata": {},
   "source": [
    "# 📌 Estrutura de uma função lambda: -> lambda argumentos: expressão"
   ]
  },
  {
   "cell_type": "code",
   "execution_count": 30,
   "metadata": {},
   "outputs": [
    {
     "name": "stdout",
     "output_type": "stream",
     "text": [
      "8\n",
      "8\n"
     ]
    }
   ],
   "source": [
    "# Função normal\n",
    "def soma(x, y):\n",
    "    return x + y\n",
    "\n",
    "# Função equivalente com lambda\n",
    "soma_lambda = lambda x, y: x + y\n",
    "\n",
    "# Testando\n",
    "print(soma(3, 5))         # Saída: 8\n",
    "print(soma_lambda(3, 5))  # Saída: 8\n"
   ]
  },
  {
   "cell_type": "code",
   "execution_count": 35,
   "metadata": {},
   "outputs": [
    {
     "name": "stdout",
     "output_type": "stream",
     "text": [
      "todo\n",
      "name\n"
     ]
    }
   ],
   "source": [
    "def main(numero_string):\n",
    "    data = numero_string\n",
    "    return data\n",
    "\n",
    "\n",
    "resultado = lambda numeros_string:numeros_string\n",
    "print(resultado('todo'))\n",
    "\n",
    "\n",
    "if '__main__' ==__name__:\n",
    "    main('name')\n",
    "    print('name')"
   ]
  },
  {
   "cell_type": "markdown",
   "metadata": {},
   "source": [
    "# UniTest"
   ]
  },
  {
   "cell_type": "code",
   "execution_count": 14,
   "metadata": {},
   "outputs": [
    {
     "name": "stderr",
     "output_type": "stream",
     "text": [
      "usage: ipykernel_launcher.py [-h] [-v] [-q] [--locals] [--durations N] [-f]\n",
      "                             [-c] [-b] [-k TESTNAMEPATTERNS]\n",
      "                             [tests ...]\n",
      "ipykernel_launcher.py: error: argument -f/--failfast: ignored explicit argument 'c:\\\\Users\\\\Lenovo\\\\AppData\\\\Roaming\\\\jupyter\\\\runtime\\\\kernel-v366c09f3f27ca723f4ba548aa773ad5441b101013.json'\n"
     ]
    },
    {
     "ename": "SystemExit",
     "evalue": "2",
     "output_type": "error",
     "traceback": [
      "An exception has occurred, use %tb to see the full traceback.\n",
      "\u001b[31mSystemExit\u001b[39m\u001b[31m:\u001b[39m 2\n"
     ]
    },
    {
     "name": "stderr",
     "output_type": "stream",
     "text": [
      "c:\\Users\\Lenovo\\miniconda3\\envs\\worker\\Lib\\site-packages\\IPython\\core\\interactiveshell.py:3557: UserWarning: To exit: use 'exit', 'quit', or Ctrl-D.\n",
      "  warn(\"To exit: use 'exit', 'quit', or Ctrl-D.\", stacklevel=1)\n"
     ]
    }
   ],
   "source": [
    "import unittest\n",
    "\n",
    "# Função que concatena duas strings\n",
    "def concatenar_strings(a, b):\n",
    "    return a + b\n",
    "\n",
    "# Classe de teste\n",
    "class TestConcatenarStrings(unittest.TestCase):\n",
    "    def test_concatenar(self):\n",
    "        # Teste básico para verificar a concatenação\n",
    "        self.assertEqual(concatenar_strings(\"Olá\", \" Mundo\"), \"Olá Mundo\")\n",
    "    \n",
    "    def test_concatenar_vazio(self):\n",
    "        # Teste quando uma das strings é vazia\n",
    "        self.assertEqual(concatenar_strings(\"\", \"Python\"), \"Python\")\n",
    "        self.assertEqual(concatenar_strings(\"Hello\", \"\"), \"Hello\")\n",
    "    \n",
    "    def test_concatenar_numeros_como_strings(self):\n",
    "        # Teste quando as \"strings\" são números representados como texto\n",
    "        self.assertEqual(concatenar_strings(\"123\", \"456\"), \"123456\")\n",
    "    \n",
    "    def test_concatenar_case_sensitivity(self):\n",
    "        # Teste para verificar sensibilidade a maiúsculas/minúsculas\n",
    "        self.assertNotEqual(concatenar_strings(\"hello\", \"world\"), \"HELLO WORLD\")\n",
    "\n",
    "# Executar os testes\n",
    "if __name__ == '__main__':\n",
    "    unittest.main()"
   ]
  },
  {
   "cell_type": "code",
   "execution_count": 1,
   "metadata": {},
   "outputs": [
    {
     "name": "stdout",
     "output_type": "stream",
     "text": [
      "Teste 1: Arquivo existente\n",
      "Erro: O arquivo 'exemplo.txt' não foi encontrado. Detalhes: [Errno 2] No such file or directory: 'exemplo.txt'\n",
      "Operação de leitura finalizada.\n",
      "\n",
      "Teste 2: Arquivo inexistente\n",
      "Erro: O arquivo 'nao_existe.txt' não foi encontrado. Detalhes: [Errno 2] No such file or directory: 'nao_existe.txt'\n",
      "Operação de leitura finalizada.\n",
      "\n",
      "Teste 3: Nome inválido de arquivo\n",
      "Erro de E/S ao acessar o arquivo. Detalhes: [WinError 6] The handle is invalid\n",
      "Operação de leitura finalizada.\n",
      "\n"
     ]
    }
   ],
   "source": [
    "def ler_arquivo(nome_arquivo):\n",
    "    try:\n",
    "        # Tentativa de abrir o arquivo no modo de leitura\n",
    "        arquivo = open(nome_arquivo, 'r', encoding='utf-8')\n",
    "    except FileNotFoundError as e:\n",
    "        # Tratamento para o caso do arquivo não ser encontrado\n",
    "        print(f\"Erro: O arquivo '{nome_arquivo}' não foi encontrado. Detalhes: {e}\")\n",
    "    except IOError as e:\n",
    "        # Tratamento para outros erros de E/S (entrada/saída)\n",
    "        print(f\"Erro de E/S ao acessar o arquivo. Detalhes: {e}\")\n",
    "    else:\n",
    "        # Se nenhum erro ocorrer, lê e imprime o conteúdo do arquivo\n",
    "        print(\"Conteúdo do arquivo:\")\n",
    "        print(arquivo.read())\n",
    "        arquivo.close()  # Fecha o arquivo após a leitura\n",
    "    finally:\n",
    "        # Sempre executa, independentemente de sucesso ou erro\n",
    "        print(\"Operação de leitura finalizada.\\n\")\n",
    "\n",
    "# Exemplos de uso\n",
    "print(\"Teste 1: Arquivo existente\")\n",
    "ler_arquivo(\"exemplo.txt\")  # Certifique-se de que este arquivo existe no diretório\n",
    "\n",
    "print(\"Teste 2: Arquivo inexistente\")\n",
    "ler_arquivo(\"nao_existe.txt\")  # Este arquivo não existe\n",
    "\n",
    "print(\"Teste 3: Nome inválido de arquivo\")\n",
    "ler_arquivo(12345)  # Um nome de arquivo inválido (não é uma string)"
   ]
  },
  {
   "cell_type": "markdown",
   "metadata": {},
   "source": [
    "# Pickle"
   ]
  },
  {
   "cell_type": "code",
   "execution_count": 5,
   "metadata": {},
   "outputs": [
    {
     "name": "stdout",
     "output_type": "stream",
     "text": [
      "{'nome': 'João', 'idade': 30}\n"
     ]
    }
   ],
   "source": [
    "import pickle\n",
    "\n",
    "dados = {'nome': 'João', 'idade': 30}\n",
    "with open('dados.pkl', 'wb') as f:\n",
    "    pickle.dump(dados, f)\n",
    "\n",
    "with open('dados.pkl', 'rb') as f:\n",
    "    carregado = pickle.load(f)\n",
    "print(carregado)"
   ]
  },
  {
   "cell_type": "code",
   "execution_count": 15,
   "metadata": {},
   "outputs": [
    {
     "name": "stdout",
     "output_type": "stream",
     "text": [
      "\"Digite uma palavra ou frase para verificar se é um palíndromo: \" não é um palíndromo.\n"
     ]
    }
   ],
   "source": [
    "import string\n",
    "\n",
    "def eh_palindromo(texto):\n",
    "    # Passo 1: Limpar a string\n",
    "    # Remove espaços, pontuação e converte para minúsculas\n",
    "    texto_limpo = ''.join(caractere.lower() for caractere in texto if caractere.isalnum())\n",
    "    \n",
    "    # Passo 2: Verificar se é palíndromo\n",
    "    # Compara a string limpa com sua versão invertida\n",
    "    return texto_limpo == texto_limpo[::-1]\n",
    "\n",
    "# Testando o programa\n",
    "#entrada = input(\"Digite uma palavra ou frase para verificar se é um palíndromo: \")\n",
    "entrada = \"Digite uma palavra ou frase para verificar se é um palíndromo: \"\n",
    "resultado = eh_palindromo(entrada)\n",
    "\n",
    "if resultado:\n",
    "    print(f'\"{entrada}\" é um palíndromo!')\n",
    "else:\n",
    "    print(f'\"{entrada}\" não é um palíndromo.')"
   ]
  },
  {
   "cell_type": "code",
   "execution_count": 16,
   "metadata": {},
   "outputs": [
    {
     "name": "stdout",
     "output_type": "stream",
     "text": [
      "True\n",
      "True\n",
      "False\n",
      "False\n",
      "True\n"
     ]
    }
   ],
   "source": [
    "print(\"Python\".isalnum())       # True - A string contém apenas letras.\n",
    "print(\"Python3\".isalnum())      # True - A string contém letras e números.\n",
    "print(\"Python!\".isalnum())      # False - O caractere '!' não é alfanumérico.\n",
    "print(\" \".isalnum())            # False - Espaço em branco não é alfanumérico.\n",
    "print(\"12345\".isalnum())        # True - A string contém apenas números."
   ]
  },
  {
   "cell_type": "code",
   "execution_count": 17,
   "metadata": {},
   "outputs": [
    {
     "name": "stdout",
     "output_type": "stream",
     "text": [
      "nohtyP\n",
      "[4, 3, 2, 1]\n",
      "True\n"
     ]
    }
   ],
   "source": [
    "# Invertendo uma string\n",
    "print(\"Python\"[::-1])  # \"nohtyP\"\n",
    "\n",
    "# Invertendo uma lista\n",
    "print([1, 2, 3, 4][::-1])  # [4, 3, 2, 1]\n",
    "\n",
    "# Usando com palíndromos\n",
    "palavra = \"radar\"\n",
    "print(palavra == palavra[::-1])  # True - A palavra é igual à sua versão invertida."
   ]
  },
  {
   "cell_type": "code",
   "execution_count": null,
   "metadata": {},
   "outputs": [],
   "source": []
  }
 ],
 "metadata": {
  "kernelspec": {
   "display_name": "worker",
   "language": "python",
   "name": "python3"
  },
  "language_info": {
   "codemirror_mode": {
    "name": "ipython",
    "version": 3
   },
   "file_extension": ".py",
   "mimetype": "text/x-python",
   "name": "python",
   "nbconvert_exporter": "python",
   "pygments_lexer": "ipython3",
   "version": "3.12.9"
  }
 },
 "nbformat": 4,
 "nbformat_minor": 2
}
